{
 "cells": [
  {
   "cell_type": "markdown",
   "metadata": {},
   "source": [
    "# Data"
   ]
  },
  {
   "cell_type": "code",
   "execution_count": null,
   "metadata": {},
   "outputs": [],
   "source": [
    "print(head(cars))\n",
    "plot(dist ~ speed, cars)"
   ]
  },
  {
   "cell_type": "markdown",
   "metadata": {},
   "source": [
    "# Linear regression"
   ]
  },
  {
   "cell_type": "code",
   "execution_count": null,
   "metadata": {},
   "outputs": [],
   "source": [
    "model <- lm(dist ~ speed, cars)\n",
    "summary(model)"
   ]
  },
  {
   "cell_type": "code",
   "execution_count": null,
   "metadata": {},
   "outputs": [],
   "source": [
    "plot(dist ~ speed, cars)\n",
    "abline(model, col = 'red')"
   ]
  },
  {
   "cell_type": "markdown",
   "metadata": {},
   "source": [
    "# MSE"
   ]
  },
  {
   "cell_type": "code",
   "execution_count": null,
   "metadata": {},
   "outputs": [],
   "source": [
    "yhat <- predict(model)"
   ]
  },
  {
   "cell_type": "code",
   "execution_count": null,
   "metadata": {},
   "outputs": [],
   "source": [
    "plot(yhat ~ cars$dist)\n",
    "abline(a = 0, b = 1, col = 'red')"
   ]
  },
  {
   "cell_type": "code",
   "execution_count": null,
   "metadata": {},
   "outputs": [],
   "source": [
    "MSE <- sum((cars$dist - yhat) ^ 2) / nrow(cars)\n",
    "print(MSE)"
   ]
  },
  {
   "cell_type": "code",
   "execution_count": null,
   "metadata": {},
   "outputs": [],
   "source": [
    "NormEquation <- function(x, y){\n",
    "  require(MASS)\n",
    "  x <- cbind(rep(1,nrow(x)), x)\n",
    "  ntheta <- ginv(t(x) %*% x) %*% t(x) %*% y\n",
    "  return(ntheta)\n",
    "}"
   ]
  },
  {
   "cell_type": "code",
   "execution_count": null,
   "metadata": {},
   "outputs": [],
   "source": [
    "NormEquation(as.matrix(cars$speed), as.matrix(cars$dist))"
   ]
  },
  {
   "cell_type": "markdown",
   "metadata": {},
   "source": [
    "# btw..."
   ]
  },
  {
   "cell_type": "code",
   "execution_count": null,
   "metadata": {},
   "outputs": [],
   "source": [
    "Rsquared <- 1 - ((sum((cars$dist - yhat) ^ 2)) / sum((cars$dist - mean(cars$dist)) ^ 2))\n",
    "print(Rsquared)"
   ]
  },
  {
   "cell_type": "markdown",
   "metadata": {},
   "source": [
    "# Descente de gradient"
   ]
  },
  {
   "cell_type": "code",
   "execution_count": 57,
   "metadata": {},
   "outputs": [
    {
     "name": "stdout",
     "output_type": "stream",
     "text": [
      "[1] 3.932375\n",
      "[1] -17.57851\n"
     ]
    }
   ],
   "source": [
    "# Building the model\n",
    "m <- 0\n",
    "c <- 0\n",
    "X <- cars$speed\n",
    "Y <- cars$dist\n",
    "n <- nrow(cars)\n",
    "\n",
    "L = 0.001  # The learning Rate\n",
    "epochs <- 50000  # The number of iterations to perform gradient descent\n",
    "\n",
    "hist <- data.frame()\n",
    "\n",
    "# Performing Gradient Descent \n",
    "for (i in c(1 : epochs)) {\n",
    "    yhat = m*X + c  # The current predicted value of Y\n",
    "    Dm = (-2/n) * sum(X * (Y - yhat))  # dérivée partielle de la fonction de coût par rapport à m\n",
    "    Dc = (-2/n) * sum(Y - yhat)  # dérivée partielle de la fonction de coût par rapport à c\n",
    "    m = m - L * Dm  # Update m\n",
    "    c = c - L * Dc  # Update c\n",
    "    df <- data.frame(m,c)\n",
    "    hist <- rbind(hist,df)\n",
    "}\n",
    "\n",
    "print(m)\n",
    "print(c)\n",
    "\n",
    "##https://towardsdatascience.com/linear-regression-using-gradient-descent-97a6c8700931"
   ]
  },
  {
   "cell_type": "code",
   "execution_count": 58,
   "metadata": {},
   "outputs": [
    {
     "data": {
      "image/png": "[encoded data removed]",
      "text/plain": [
       "plot without title"
      ]
     },
     "metadata": {},
     "output_type": "display_data"
    }
   ],
   "source": [
    "par(mfrow = c(1,2))\n",
    "plot(hist$c, type = 'l')\n",
    "plot(hist$m, type = 'l')"
   ]
  },
  {
   "cell_type": "code",
   "execution_count": null,
   "metadata": {},
   "outputs": [],
   "source": []
  }
 ],
 "metadata": {
  "kernelspec": {
   "display_name": "R",
   "language": "R",
   "name": "ir"
  },
  "language_info": {
   "codemirror_mode": "r",
   "file_extension": ".r",
   "mimetype": "text/x-r-source",
   "name": "R",
   "pygments_lexer": "r",
   "version": "3.5.1"
  }
 },
 "nbformat": 4,
 "nbformat_minor": 2
}
